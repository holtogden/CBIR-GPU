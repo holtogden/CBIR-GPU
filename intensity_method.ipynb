{
  "nbformat": 4,
  "nbformat_minor": 0,
  "metadata": {
    "colab": {
      "provenance": [],
      "gpuType": "T4"
    },
    "kernelspec": {
      "name": "python3",
      "display_name": "Python 3"
    },
    "language_info": {
      "name": "python"
    },
    "accelerator": "GPU"
  },
  "cells": [
    {
      "cell_type": "code",
      "execution_count": null,
      "metadata": {
        "colab": {
          "base_uri": "https://localhost:8080/"
        },
        "id": "dVf_fD1aAYaM",
        "outputId": "98e49c95-e620-4e6c-dea7-b7f16dc1dcb0"
      },
      "outputs": [
        {
          "output_type": "stream",
          "name": "stdout",
          "text": [
            "Overwriting cbir.cu\n"
          ]
        }
      ],
      "source": [
        "%%writefile cbir.cu\n",
        "\n",
        "#include <opencv2/opencv.hpp>\n",
        "#include <iostream>\n",
        "#include <cuda_runtime.h>\n",
        "\n",
        "__global__ void calculateImageIntensity(const unsigned char* imageData, size_t width, size_t height, float* intensityHistogram, int numBins, float binSize) {\n",
        "    int x = blockIdx.x * blockDim.x + threadIdx.x;\n",
        "    int y = blockIdx.y * blockDim.y + threadIdx.y;\n",
        "\n",
        "    if (x >= width || y >= height) return;\n",
        "\n",
        "\n",
        "    int idx = y * width + x;\n",
        "\n",
        "\n",
        "    float red = static_cast<float>(imageData[4 * idx]);     // R\n",
        "    float green = static_cast<float>(imageData[4 * idx + 1]); // G\n",
        "    float blue = static_cast<float>(imageData[4 * idx + 2]);  // B\n",
        "\n",
        "    // Convert RGB to intensity\n",
        "    float intensity = 0.299f * red + 0.587f * green + 0.114f * blue;\n",
        "    int binIndex = static_cast<int>(floor(intensity / binSize));\n",
        "\n",
        "\n",
        "    atomicAdd(&intensityHistogram[binIndex], 1);\n",
        "}\n",
        "\n",
        "\n",
        "\n",
        "\n",
        "int main(int argc, char** argv) {\n",
        "    if (argc < 2) {\n",
        "        std::cerr << \"Usage: \" << argv[0] << \" <Image_Path>\" << std::endl;\n",
        "        return -1;\n",
        "    }\n",
        "\n",
        "    std::string imagePath = argv[1];\n",
        "    cv::Mat image = cv::imread(imagePath, cv::IMREAD_COLOR);\n",
        "    if (image.empty()) {\n",
        "        std::cerr << \"Error: Image cannot be loaded.\" << std::endl;\n",
        "        return -1;\n",
        "    }\n",
        "\n",
        "    cv::Mat imageRGBA;\n",
        "    cv::cvtColor(image, imageRGBA, cv::COLOR_BGR2RGBA);\n",
        "\n",
        "    const int imgWidth = imageRGBA.cols;\n",
        "    const int imgHeight = imageRGBA.rows;\n",
        "    size_t imgSize = imgWidth * imgHeight * 4 * sizeof(unsigned char);\n",
        "\n",
        "\n",
        "    unsigned char* d_imageData;\n",
        "    cudaMalloc(&d_imageData, imgSize);\n",
        "\n",
        "\n",
        "    cudaMemcpy(d_imageData, imageRGBA.data, imgSize, cudaMemcpyHostToDevice);\n",
        "\n",
        "\n",
        "    const int numBins = 256;\n",
        "    float binSize = 256.0f / numBins;\n",
        "    float* d_intensityHistogram;\n",
        "    size_t histSize = numBins * sizeof(float);\n",
        "    cudaMalloc(&d_intensityHistogram, histSize);\n",
        "    cudaMemset(d_intensityHistogram, 0, histSize); // Initialize histogram array to 0\n",
        "\n",
        "\n",
        "    dim3 blockSize(16, 16);\n",
        "    dim3 gridSize((imgWidth + blockSize.x - 1) / blockSize.x, (imgHeight + blockSize.y - 1) / blockSize.y);\n",
        "\n",
        "\n",
        "    calculateImageIntensity<<<gridSize, blockSize>>>(d_imageData, imgWidth, imgHeight, d_intensityHistogram, numBins, binSize);\n",
        "\n",
        "\n",
        "    float* h_intensityHistogram = new float[numBins];\n",
        "    cudaMemcpy(h_intensityHistogram, d_intensityHistogram, histSize, cudaMemcpyDeviceToHost);\n",
        "\n",
        "    delete[] h_intensityHistogram;\n",
        "    cudaFree(d_imageData);\n",
        "    cudaFree(d_intensityHistogram);\n",
        "\n",
        "    return 0;\n",
        "}\n",
        "\n",
        "\n"
      ]
    },
    {
      "cell_type": "code",
      "source": [],
      "metadata": {
        "id": "ABvTnLHbBVRI"
      },
      "execution_count": null,
      "outputs": []
    },
    {
      "cell_type": "code",
      "source": [
        "!nvcc -o imageHistogram cbir.cu\n"
      ],
      "metadata": {
        "colab": {
          "base_uri": "https://localhost:8080/"
        },
        "id": "jFhfd2TUBVXz",
        "outputId": "b2a67634-5d85-48e2-c396-e47a4f564756"
      },
      "execution_count": null,
      "outputs": [
        {
          "output_type": "stream",
          "name": "stdout",
          "text": [
            "\u001b[01m\u001b[Kcbir.cu:2:10:\u001b[m\u001b[K \u001b[01;31m\u001b[Kfatal error: \u001b[m\u001b[Kopencv2/opencv.hpp: No such file or directory\n",
            "    2 | #include \u001b[01;31m\u001b[K<opencv2/opencv.hpp>\u001b[m\u001b[K\n",
            "      |          \u001b[01;31m\u001b[K^~~~~~~~~~~~~~~~~~~~\u001b[m\u001b[K\n",
            "compilation terminated.\n"
          ]
        }
      ]
    },
    {
      "cell_type": "code",
      "source": [
        "!nvcc cbir.cu -o cbir\n",
        "!./cbir\n"
      ],
      "metadata": {
        "id": "w8yrJMOIAl6c"
      },
      "execution_count": null,
      "outputs": []
    }
  ]
}